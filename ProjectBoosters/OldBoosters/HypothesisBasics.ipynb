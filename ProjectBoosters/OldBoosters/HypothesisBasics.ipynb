{
 "cells": [
  {
   "cell_type": "code",
   "execution_count": 49,
   "metadata": {
    "collapsed": false
   },
   "outputs": [
    {
     "name": "stdout",
     "output_type": "stream",
     "text": [
      "https://hypothes.is/api/search?user=jeremydean&limit=200\n",
      "3309 <class 'int'>\n",
      "Step 2: Grabs the data from the URL...\n",
      "Chilling.\n",
      "Hypothes.is nicely bridges the worlds of social media and formal education.\n",
      "The first example here is to a blog by Robin De Rosa where she gives an account of her Open Textbook Project, in which she used Hypothes.is.\n",
      "What do you mean by \"go wrong\" here? Annotate in the wrong place?\n",
      "\n",
      "?\n",
      "Right, I think that's part of Herscher's point: looking at Detroit as \"ruin\" is further damaging to the city itself and its people.\n",
      "Refers to 18th century satirist Jonathan Swift's famous--and oft taught--*A Modest Proposal for Preventing the Children of Poor People From Being a Burden to Their Parents or Country, and for Making Them Beneficial to the Publick* (1792).\n",
      "\n",
      "![Image Description](http://s3.amazonaws.com/rapgenius/1356621318_A_Modest_Proposal_1729_Cover.jpg)\n",
      "\n",
      "It is indeed a classic example of [\"irony\"](http://rapgenius.com/1316533/Poetry-brain-editors-glossary-of-poetic-terms/Irony) in literature.\n",
      "Originally intended as upholding the virtues of the humanities in opposition to science and technology, I'd like to co-opt the argument for the humanities *within*, mainly, technology. We need more humanists in tech!   \n",
      "Still loving this...\n",
      "Fair enough. Hearing just this sound bite we might be sympathetic so the Christakis' argument.\n",
      "Good question. I wonder if the lease is different than a normal business...\n",
      "What's missing, do tell?...\n",
      "I was literally just wondering about this after staying in such a \"haven for...human misery.\" \n",
      "test\n",
      "The *social* aspect of collaborative online annotation is indeed key. We need to be able to follow others and receive notification of their activity. @judell\n"
     ]
    }
   ],
   "source": [
    "# 1. Call the hypothes.is api with max limit (200)\n",
    "# 2. use \"offset\" to grab more than one set\n",
    "# 3. grab it all for the specified user\n",
    "import json\n",
    "\n",
    "baseurl = \"https://hypothes.is/api/search?\"\n",
    "user = \"jeremydean\"\n",
    "limit = \"200\"\n",
    "\n",
    "searchurl = baseurl + \"user=\" + user + \"&limit=\" + limit\n",
    "print(searchurl)\n",
    "\n",
    "import requests\n",
    "response = requests.get(searchurl)\n",
    "response = json.loads(response.text)\n",
    "\n",
    "total = response[\"total\"]\n",
    "print(total, type(total))\n",
    "\n",
    "loops = total // int(limit) + 1\n",
    "\n",
    "for offset in range(loops):\n",
    "    response = requests.get(searchurl + \"&offset=\" + str(offset * 200))\n",
    "    response = json.loads(response.text)\n",
    "    #print (response[\"rows\"][0][\"text\"])\n",
    "\n",
    "    for item in response[\"rows\"]:\n",
    "        print(item[\"text\"])\n",
    "        #break"
   ]
  },
  {
   "cell_type": "code",
   "execution_count": null,
   "metadata": {
    "collapsed": true
   },
   "outputs": [],
   "source": [
    "for"
   ]
  },
  {
   "cell_type": "code",
   "execution_count": null,
   "metadata": {
    "collapsed": true
   },
   "outputs": [],
   "source": []
  }
 ],
 "metadata": {
  "kernelspec": {
   "display_name": "Python 3",
   "language": "python",
   "name": "python3"
  },
  "language_info": {
   "codemirror_mode": {
    "name": "ipython",
    "version": 3
   },
   "file_extension": ".py",
   "mimetype": "text/x-python",
   "name": "python",
   "nbconvert_exporter": "python",
   "pygments_lexer": "ipython3",
   "version": "3.6.0"
  }
 },
 "nbformat": 4,
 "nbformat_minor": 2
}
