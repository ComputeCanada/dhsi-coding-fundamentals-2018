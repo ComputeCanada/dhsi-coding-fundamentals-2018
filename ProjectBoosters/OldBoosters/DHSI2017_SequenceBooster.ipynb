{
 "cells": [
  {
   "cell_type": "markdown",
   "metadata": {},
   "source": [
    "# Sequence Alignment Booster\n",
    "There is a python library called `alignment` that can be used for comparing the content of strings of text and detecting cases of significant overlap.  The basic information on the library can be found at https://pypi.python.org/pypi/alignment/1.0.9 and includes an example (pasted below).\n",
    "\n",
    "Before you can use the alignment library though you'll need to download it by going to your command line on OSX or the command prompt on Windows and running: `$ pip install alignment`\n",
    "\n",
    "Note that the `alignment` library was written in python2 rather than python3.  There have been changes to the names of various functions between these versions and so there are two options:\n",
    "\n",
    "1. Run the alignment tool from python2\n",
    "2. Fix the alignement tool to run with python3\n",
    "\n",
    "We're going to go with the fix because python3 is the way forward so you might as well get used to it and, well, given the context of this class it will be good for you. =)\n",
    "\n",
    "There are only three changes that need to be done to `alignment`:\n",
    "\n",
    "1. correct `print` statements in `sequence.py` by adding paraentheses\n",
    "2. replace references to `izip` with `zip` and remove the call to `itertools` in `profile.py`\n",
    "3. replace references to `xrange` with `range` in `sequencealigner.py`\n",
    "\n",
    "Look at the code below and the output below it _before_ running the code.  When you run the code it will crash but it will tell you why it crashed and where the file that has the problem needs to be found.  Use a text editor to edit each file as each error occurs.  TextWrangler/BBEdit is a great choice on an OSX system.  Sublime and Notepad++ are good on Windows.\n",
    "\n",
    "[Aside: after the course I'll submit these changes to the developer so that a python3 variant is available for everyone in the future.]"
   ]
  },
  {
   "cell_type": "code",
   "execution_count": 1,
   "metadata": {
    "collapsed": false
   },
   "outputs": [
    {
     "name": "stdout",
     "output_type": "stream",
     "text": [
      "what a -               beautiful day\n",
      "what a disappointingly bad       day\n",
      "Alignment score: 3\n",
      "Percent identity: 60.0\n"
     ]
    }
   ],
   "source": [
    "from alignment.sequence import Sequence\n",
    "from alignment.vocabulary import Vocabulary\n",
    "from alignment.sequencealigner import SimpleScoring, GlobalSequenceAligner\n",
    "\n",
    "# Create sequences to be aligned.\n",
    "a = Sequence('what a beautiful day'.split())\n",
    "b = Sequence('what a disappointingly bad day'.split())\n",
    "\n",
    "# Create a vocabulary and encode the sequences.\n",
    "v = Vocabulary()\n",
    "aEncoded = v.encodeSequence(a)\n",
    "bEncoded = v.encodeSequence(b)\n",
    "\n",
    "# Create a scoring and align the sequences using global aligner.\n",
    "scoring = SimpleScoring(2, -1)\n",
    "aligner = GlobalSequenceAligner(scoring, -2)\n",
    "score, encodeds = aligner.align(aEncoded, bEncoded, backtrace=True)\n",
    "\n",
    "# Iterate over optimal alignments and print them.\n",
    "for encoded in encodeds:\n",
    "    alignment = v.decodeSequenceAlignment(encoded)\n",
    "    print (alignment)\n",
    "    print ('Alignment score:', alignment.score)\n",
    "    print ('Percent identity:', alignment.percentIdentity())"
   ]
  },
  {
   "cell_type": "markdown",
   "metadata": {
    "collapsed": false
   },
   "source": [
    "### Now what?\n",
    "\n",
    "The next step is to plan how you will expand the use of this library in small steps to get it to do what you want.  Come up with that plan and then come and talk with me and I'll help you implement it."
   ]
  },
  {
   "cell_type": "code",
   "execution_count": null,
   "metadata": {
    "collapsed": true
   },
   "outputs": [],
   "source": []
  }
 ],
 "metadata": {
  "kernelspec": {
   "display_name": "Python 3",
   "language": "python",
   "name": "python3"
  },
  "language_info": {
   "codemirror_mode": {
    "name": "ipython",
    "version": 3
   },
   "file_extension": ".py",
   "mimetype": "text/x-python",
   "name": "python",
   "nbconvert_exporter": "python",
   "pygments_lexer": "ipython3",
   "version": "3.6.0"
  }
 },
 "nbformat": 4,
 "nbformat_minor": 2
}
