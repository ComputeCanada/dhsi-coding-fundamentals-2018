{
 "cells": [
  {
   "cell_type": "markdown",
   "metadata": {},
   "source": [
    "Sometimes you have parts of your code that need to be run over and over again.  Sometimes you have parts of your code that are really big and you'd just like to set them elsewhere and point to them so that they don't clutter up the logic of your code.  In both these instances the solution is likely to create a function.\n",
    "\n",
    "Here is some code to show the skeletal framework of how this is done.\n",
    "\n",
    "We'll start with an example of repeated code that we could call"
   ]
  },
  {
   "cell_type": "code",
   "execution_count": 1,
   "metadata": {
    "collapsed": false
   },
   "outputs": [
    {
     "name": "stdout",
     "output_type": "stream",
     "text": [
      "['hello', 'world']\n",
      "['goodbye', 'world']\n"
     ]
    }
   ],
   "source": [
    "myPhrase = \"Hello World\"\n",
    "myPhraseSplitLower = myPhrase.lower().split()\n",
    "print(myPhraseSplitLower)\n",
    "\n",
    "myPhrase = \"Goodbye World\"\n",
    "myPhraseSplitLower = myPhrase.lower().split()\n",
    "print(myPhraseSplitLower)"
   ]
  },
  {
   "cell_type": "markdown",
   "metadata": {},
   "source": [
    "clearly we are repeating content here.  Yes, it is only twice but this is a toy example.  Imagine having to do a longer set of things many times. \n",
    "\n",
    "We could use a function to do the above as follows:"
   ]
  },
  {
   "cell_type": "code",
   "execution_count": 2,
   "metadata": {
    "collapsed": false
   },
   "outputs": [
    {
     "name": "stdout",
     "output_type": "stream",
     "text": [
      "['hello', 'world']\n",
      "['goodbye', 'world']\n"
     ]
    }
   ],
   "source": [
    "def splitLower(phrase):\n",
    "    myPhraseSplitLower = phrase.lower().split()\n",
    "    print(myPhraseSplitLower)\n",
    "\n",
    "phrase = \"Hello World\"\n",
    "splitLower(phrase)\n",
    "\n",
    "myPhrase = \"Goodbye World\"\n",
    "splitLower(myPhrase)"
   ]
  },
  {
   "cell_type": "markdown",
   "metadata": {},
   "source": [
    "Some fancy clean-up and features"
   ]
  },
  {
   "cell_type": "code",
   "execution_count": 4,
   "metadata": {
    "collapsed": false
   },
   "outputs": [
    {
     "name": "stdout",
     "output_type": "stream",
     "text": [
      "Please enter a phrase to tokenize (EXIT to exit):mow the lawn\n",
      "['mow', 'the', 'lawn']\n",
      "Please enter a phrase to tokenize (EXIT to exit):i love cats\n",
      "['i', 'love', 'cats']\n",
      "Please enter a phrase to tokenize (EXIT to exit):EXIt\n",
      "['exit']\n",
      "Please enter a phrase to tokenize (EXIT to exit):EXIT\n",
      "['exit']\n"
     ]
    }
   ],
   "source": [
    "def splitLower(phrase):\n",
    "    print(phrase.lower().split())\n",
    "\n",
    "phrase = \"\"\n",
    "while phrase != \"EXIT\":\n",
    "    phrase = input(\"Please enter a phrase to tokenize (EXIT to exit):\")\n",
    "    splitLower(phrase)"
   ]
  }
 ],
 "metadata": {
  "kernelspec": {
   "display_name": "Python 3",
   "language": "python",
   "name": "python3"
  },
  "language_info": {
   "codemirror_mode": {
    "name": "ipython",
    "version": 3
   },
   "file_extension": ".py",
   "mimetype": "text/x-python",
   "name": "python",
   "nbconvert_exporter": "python",
   "pygments_lexer": "ipython3",
   "version": "3.6.0"
  }
 },
 "nbformat": 4,
 "nbformat_minor": 2
}
