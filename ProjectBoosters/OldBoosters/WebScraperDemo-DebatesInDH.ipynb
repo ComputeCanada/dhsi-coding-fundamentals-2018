{
 "cells": [
  {
   "cell_type": "markdown",
   "metadata": {},
   "source": [
    "Debates in DH allows for the content of each page to be scraped as a list of JSON objects--See the bottom of each chapter.  These can be parsed and the page stitched back together.\n",
    "\n",
    "The format of the urls is `http://dhdebates.gc.cuny.edu/texts/XXX/sentences.json` where XXX is a number between 1 and 102 (inclusive).\n",
    "\n",
    "We'll start by opening one page (54) and grabbing the content.  "
   ]
  },
  {
   "cell_type": "code",
   "execution_count": 25,
   "metadata": {
    "collapsed": false
   },
   "outputs": [],
   "source": [
    "import requests\n",
    "import json\n",
    "\n",
    "response=requests.get(\"http://dhdebates.gc.cuny.edu/texts/54/sentences.json\")\n",
    "lines=json.loads(response.text)\n",
    "#print(sentences)\n",
    "\n",
    "chapter=[]\n",
    "lines = sorted(lines, key=lambda k: k['id'])\n",
    "for line in lines:\n",
    "    chapter.append(line['body'])\n",
    "\n",
    "#print(chapter)"
   ]
  },
  {
   "cell_type": "markdown",
   "metadata": {},
   "source": [
    "With one book down let's create a list that will hold each section/chapter of the text in the order that it is numbered on the website."
   ]
  },
  {
   "cell_type": "code",
   "execution_count": 27,
   "metadata": {
    "collapsed": false
   },
   "outputs": [
    {
     "name": "stdout",
     "output_type": "stream",
     "text": [
      "102\n"
     ]
    }
   ],
   "source": [
    "import requests\n",
    "import json\n",
    "\n",
    "book=[]\n",
    "\n",
    "for index in range(1,103):\n",
    "    response=requests.get(\"http://dhdebates.gc.cuny.edu/texts/\" + str(index) + \"/sentences.json\")\n",
    "    lines=json.loads(response.text)\n",
    "    #print(sentences)\n",
    "    chapter=[]\n",
    "    lines = sorted(lines, key=lambda k: k['id'])\n",
    "    for line in lines:\n",
    "        chapter.append(line['body'])\n",
    "    book.append(chapter)\n",
    "print(len(book))"
   ]
  },
  {
   "cell_type": "markdown",
   "metadata": {},
   "source": [
    "Now with all the content as a list of objects you can do what you want with them.  Let's make sure that you can index them.  Play with the following print commands to see what happens."
   ]
  },
  {
   "cell_type": "code",
   "execution_count": 31,
   "metadata": {
    "collapsed": false
   },
   "outputs": [
    {
     "name": "stdout",
     "output_type": "stream",
     "text": [
      "One of the very first posts I wrote for this blog was about visualizing information and some of the new online tools that had cropped up to make it a little easier to think about the relationships between data—words, people, and so on (Kelly).\n",
      "Digital humanists have heard numerous recent calls for the field to interrogate race, gender, and other structures of power.\n"
     ]
    }
   ],
   "source": [
    "print(book[0][0])\n",
    "print(book[53][0])\n",
    "print(book[53][1])"
   ]
  },
  {
   "cell_type": "markdown",
   "metadata": {},
   "source": [
    "You can have a chapter in the state that it is currently in.  If you need to have a chapter as a single string then the following will do that for you (chapter 54 in this example; remember zero based counting):"
   ]
  },
  {
   "cell_type": "code",
   "execution_count": 35,
   "metadata": {
    "collapsed": false
   },
   "outputs": [
    {
     "name": "stdout",
     "output_type": "stream",
     "text": [
      "Digital humanists have heard numerous recent calls for the field to interrogate race, gender, and other structures of power. I would like to argue here that these calls, while necessary and justified, do not go far enough. To truly engage in this kind of critical work, I contend, would be much more difficult and fascinating than anything we have previously imagined for the future of DH; in fact, it would require dismantling and rebuilding much of the organizing logic that underlies our work. I’ll start by saying a little about where I think we are with digital humanities now, and then talk about some new directions, with respect to these structures of power, for the field. Digital humanities is at an interesting moment, as everyone says during periods of contention. In some ways, it is a frustrating time, but in other ways, it represents a meaningful opportunity. The field of digital humanities is growing and institutionalizing, and beginning to find a good number of adherents. DH gets occasional mainstream press coverage, and there is at least the perception, if not the reality, that opportunities and funds are available to digital humanities scholars in a pretty remarkable way. We can map points and shapes—not perfectly, but we can do it. We can build graphs and charts, and we can do an okay job mining texts in search of patterns. We are working more with images, though that is still pretty nascent, and we are even making some forays into moving image analysis. All of this is fun and interesting, and personally, I get a lot of satisfaction out of doing this kind of thing and helping other people to do it. It is useful and absorbing, and in many cases, it really does help us do our work better. But DH has bigger challenges yet to face. For all of its vaunted innovation, the digital humanities actually borrows a lot of its infrastructure, data models, and visual rhetoric from other areas, and particularly from models developed for business applications. In some ways, that is inevitable, because the business market is just so much bigger, and so much better funded, than the market for weird, boutique humanities tools. <a id=\"p33\" class=\"page\"></a>But consider Google Maps, which powers a lot of our projects. Many have observed—I am certainly not the first—that this technology enshrines a Cartesian model of space that derives directly from a colonialist project of empire-building. <a id=\"en31r\" class=\"enref\" href=\"#en31\">1</a> Flattening and distorting space so that it can be graphed with latitude and longitude makes sense when you are assembling an empire—which is why the Mercator projection emerged in Western Europe in the sixteenth century. Of course, it also does not help that Google Maps is owned by a corporate entity with opaque intentions. But not even open-source alternatives like OpenStreetMap ask us to really reimagine space in any meaningful way. What models of space—what possible futures—are we foreclosing by leaning so heavily on this one representation? What would the world look like if we viewed it on a different kind of map altogether; for instance, maps produced by Aboriginal communities in Australia? (Watson). In a similar way, many of the qualities of computer interfaces that we have prized, qualities like transparency, seamlessness, and flow, privilege ease of use ahead of any kind of critical engagement (even, perhaps, struggle) with the material at hand. <a id=\"en32r\" class=\"enref\" href=\"#en32\">2</a> Even the concept of time is a problem for us, as anyone who has tried to build a timeline knows. Many tools that store temporal data demand times and dates nailed down to the minute, or at least the day, when of course many of us are dealing with things like “ca. 1500s.” You might already be familiar with some problems with the most common types of data visualization, which are great for quickly conveying known quantities but terrible at conveying uncertainty or conflicting opinions. You can assign a number to the degree of your uncertainty for data points, but how do you show the possible universe of missing data? How do we show the ways in which heterogeneous data has been flattened into a model to make it visually legible? <a id=\"en33r\" class=\"enref\" href=\"#en33\">3</a> If we want to communicate that degree of complexity, must we give up on visualization altogether? <a id=\"en34r\" class=\"enref\" href=\"#en34\">4</a> Likewise, most of the data and data models we have inherited deal with structures of power, like gender and race, with a crudeness that would never pass muster in a peer-reviewed humanities publication. This matters, actually, and I want to explain why it matters. I like to show “The Changing Face of America,” by Martin Schoeller for <i>National Geographic,</i> as an example of a mismatch between the way we experience the world and the way the world can be made “computationally tractable,” to use Willard McCarty’s phrase (McCarty). The project presents us with an array of faces, each of visually ambiguous ethnicity. Clicking on a face reveals both that person’s self-identification and the Census boxes that he or she checks. It is clear in every case that the individual’s self-conception (e.g., “Trinidadian American/colored”) is far more complicated and nuanced than the Census category (e.g., “white/black”). But of course, these simplified categories become reified in Census data and in scores of maps and visualizations. So to some significant degree, the fact that we do <a id=\"p34\" class=\"page\"></a>not have a really accurate data model of race in this country means that we cannot really understand people’s lived experience of it. Or at least we cannot produce data-driven visualizations that do a very good job of reflecting people’s lived experiences. To give another example—this one dealing with gender—the Getty Research Institute has released as linked open data an important database that cultural institutions use to establish what are called authorities—that is, to make sure they are all using the same name to refer to an artist and to associate that name with other data about the artist within and across institutions (“Getty Union List of Artist Names”). It is a hugely valuable resource, and without it museums could not share and network information. But its instructions for specifying gender read as follows: “The sex of the artist, <i>male, female,</i> or <i>known</i>. For corporate bodies, the gender is <i>not applicable</i>” (“About the ULAN”). The fact that it captures gender is crucial—otherwise we would not be able to say that women are underrepresented in a museum’s collection—but no self-respecting humanities scholar would ever get away with such a crude representation of gender. Or at least I hope not. So why do we allow widely shared, important databases like the Union List of Artist Names (ULAN) to deal so naively with identity? <a id=\"en35r\" class=\"enref\" href=\"#en35\">5</a> There are probably a lot of reasons, many to do with practicalities and efficiencies and who is actually aware of what data is where. But one big thing is that, technically speaking, we frankly have not figured out how to deal with categories like gender that are not binary or one-dimensional or stable. But what if we did try to figure it out? I am thinking here of Topotime, which is a data specification for representing time that was developed by Elijah Meeks and Karl Grossner at Stanford University (“Topotime v0.1 gallery”). By specifying that certain characters represent attributes like uncertainty, contingency, or approximation, they have shown how we could move from depicting time as a point or a line to a much broader canvas of shapes. It is interesting to consider what it might look like if we began to think about representing structures like race and gender with as much nuance as Grossner and Meeks’s system for dealing with time. What would maps and data visualizations look like if they were built to show us categories like race <i>as they have been experienced,</i> not as they have been captured and advanced by businesses and governments? For example: a useful data model for race would have to be time- and place-dependent so that as a person moved from Brazil to the United States, she might move from white to black. Or perhaps the categories themselves would be time- and place-dependent so that certain categories would edge into whiteness over time. Or perhaps you could contrast the racial makeup of a place as the Census understands it with the way it is articulated by the people who live there. Or, with a sufficiently complicated data model, you could express the racial makeup of a place from one person’s point of view and then change the perspective <a id=\"p35\" class=\"page\"></a>to represent someone else’s. I might see a black neighborhood, for example; someone who lived there might see it as Haitian. Perhaps, if we take Stuart Hall seriously, it makes more sense to define race not as a data point in itself but as the product of a set of relationships of power; in that sense, it is both imaginary <i>and</i> constitutive of our reality (<i>Race: The Floating Signifier</i>). Is there a data model, or a set of functions we might define, that could represent that? It may sound as though I am asking us to develop data models that pin a person’s identity down in even greater detail, in the way Facebook’s expanded gender categories do (Molloy). But that is not it at all. I would like us to start understanding markers like gender and race not as givens but as constructions that are actively created from time to time and place to place. In other words, I want us to stop acting as though the data models for identity are containers to be filled in order to produce meaning and recognize instead that these structures themselves constitute data. That is where the work of DH should begin. What I am getting at here is a comment on our ambitions for digital humanities going forward. I want us to be more ambitious, to hold ourselves to much higher standards when we are claiming to develop data-based work that depicts people’s lives. <a id=\"en36r\" class=\"enref\" href=\"#en36\">6</a> We have heard a lot of calls lately—and I think rightly—for increased attention to race and gender in digital humanities work. It is not that interesting work is not being done in digital humanities; there is wonderful, fascinating work by people I really respect. It is just that the work that seems to get the most attention, not just from the scholarly community, but from mainstream news outlets, seems not to deal overmuch with women, queer people, and people of color. Perhaps those of us who are interested in seeing more robust cultural critique need to be more specific about where the intervention might most productively take place. It is not only about shifting the focus of projects so that they feature marginalized communities more prominently; it is about ripping apart and rebuilding the machinery of the archive and database so that it does not reproduce the logic that got us here in the first place. The great value of teaching DH to undergrads, I have come to believe, is not showing them how to use new technology, but showing them how provisional, relative, and profoundly ideological is the world being constructed all around us with data. It is an opportunity to show them that our most apparently universal categories—man/woman, black/white—are not inevitable, but the result of very specific power arrangements. Data visualizations, maps, and spreadsheets look terrifyingly authoritative to a nineteen-year-old—and to us, too. One great value of rigorous critical inquiry is that you can help people see how this was all constructed, and to what ideological ends. But within digital humanities, we are mostly not doing this. There are some significant exceptions, which I will discuss shortly, but for the most part, we seem <a id=\"p36\" class=\"page\"></a>happy to flatten the world into known data structures and visualizations that might easily be reshuffled into a corporate PowerPoint deck. That may sound uncharitable, but actually I understand the impetus quite well. We want our work to be legible. We want people to understand it. We want to share it with other institutions, link it up, and create interoperable archives. We want it to be <i>useful. But the very difficulty of imagining alternative possibilities should give us pause. When the structures that govern our identities seem as unassailable as they do now, they must have great power. And so what could be more ambitious, more interesting and challenging, than understanding the nature of that power? These questions make me think of the feminist film theorist Laura Mulvey, whose 1977 experimental film, <i>Riddles of the Sphinx</i> (directed by Mulvey and Peter Wollen), I happened to see as I composed an early version of this chapter. Before Mulvey, feminist scholarship tended to do what I think of as counting women. How many women show up on the screen, in what roles, and how does the film treat them? Mulvey’s intervention, in a 1975 article for <i>Screen,</i> was to show us that the whole thing was broken (“Visual Pleasure and Narrative Cinema”). It was not just that we did not see enough women in powerful roles. It was that the entire organizing logic of narrative cinema was built around the subjugation of women. She showed us in film studies, the discipline in which I was trained, that structural inequalities can be written in to the very language of a medium. <a id=\"en37r\" class=\"enref\" href=\"#en37\">7</a> Perhaps you can see how I think this applies to digital humanities projects, too. We can do what we know how to do: visualize datasets that we inherit from governments, corporations, and cultural institutions, using tools that we have borrowed from corporations. Or we can scrutinize data, rip it apart, rebuild it, reimagine it, and perhaps build something entirely different and weirder and more ambitious. I say we could, but in fact some people have, although I do not think their work has necessarily been recognized with the acclaim it should have. So I would like to discuss a few projects that I admire, and which seem to me to embody a commitment to reimagining the categories that have structured people’s lives. We know that the question of what gets included and excluded within archives and repositories is, in itself, deeply political. At the University of Chicago, the English professor Jacqueline Goldsby led a team of graduate students to describe and arrange collections related to African American history in Chicago. This meant spending time in smaller Chicago institutions, like the South Side Community Arts Center, as well as crawling into people’s attics and storage rooms to dig out their old papers. As Goldsby <a id=\"p37\" class=\"page\"></a>and her students understood, if an object is not figured as part of our object of study, it can never be extracted and represented as data (“Mapping the Stacks”). When it comes to thinking rigorously about data models, some of the people who are doing this thinking in the most sophisticated ways are, as you might expect, people in information studies. In a 2015 article, Michelle Caswell and Anne Gilliland take on the problem of what happens when the perpetrator of human-rights abuses dies before admitting culpability (“False Promise and New Hope”). On the one hand, you have a massive archive, rife with evidence documenting the abuses; on the other hand, you have a looming absence because the perpetrator can never be cross-examined. Gilliland and Caswell suggest that rather than take a perpetrator at his word, thus relegating victims’ testimony to a perpetually provisional status, we instead stipulate the perpetrator as an “imaginary document” within the archive itself. As an archival document, the perpetrator could then be subjected to evidentiary testing and cross-examination, as in the way of any archival data. It may not immediately sound like it, but it strikes me that what Gilliland and Caswell are proposing is a data model for interrogating the perpetrators’ actions. If the perpetrator cannot be represented as part of the archive, then he escapes researchers’ scrutiny. If he can be re-mediated into our data, then his actions can be represented and attributed properly. Moving on to what we do with the data we have, one project I want to highlight is a data visualization built by David Kim (who was working on a team led by Jacqueline Wernimont). Kim was working on a project about Edward S. Curtis, whose photographs of Native Americans are collected in a set of books called <i>The North American Indian</i> (“‘Data-izing’ the Images”). In building a spreadsheet about the Curtis photographs, the obvious choice for Kim would have been to record and then visualize the categories Curtis used to describe the people depicted. Instead, David chose to build a data visualization that highlights not Curtis’s categories for Native American people, but how Curtis <i>constructed</i> those categories. Kim knew that Curtis’s photos do not provide us immediate access to these people; instead, the view they offer is highly mediated and carefully constructed, more indicative of Curtis’s own understanding of Native American-ness than of life as these people encountered it. So he turned the data visualizations back around, focusing scrutiny on Curtis himself and the Western imperial ideology that he represented. <a id=\"p38\" class=\"page\"></a>This is a pretty simple example, but it is actually pretty sophisticated, too, revealing the researcher’s fluency with both cultural studies <i>and</i> archival theory. Moving to the level of the interface, Evan Bissell and Erik Loyer’s <i>The Knotted Line</i> is a project I like to show my students, to their vocal frustration. It is about the history of confinement in the United States, and it tells that story through a series of fifty paintings and data points that you really have to hunt for. It is infuriating and weird, but it is also obviously built with skill and, I would say, with a great deal of anger. It asks us to question the purpose of an interface, and it links our assumption that we are entitled to straightforward, transparent interfaces with our inability to look deeply at the structures of injustice and inequality in the United States. My students, as I mentioned, tend to groan when I show them <i>The Knotted Line</i> because it does not do what they want it to do—what they think it should do—and it does not seem useful. And in fact, there are so many projects out there that actually do seem useful: that provide actionable, clear information that we can easily assimilate. Which does make you wonder: If you build a <i>Knotted Line,</i> will anyone come? I think they might. Some might. It is clear to me that our vocabulary for interpreting and evaluating this kind of work is not very well developed yet, but maybe we need more practice. Here, I am reminded again of Laura Mulvey and of this quote from “Visual Pleasure”: <p class=\"bqs\">It is said that analysing pleasure, or beauty, destroys it. That is the intention of this article. The satisfaction and reinforcement of the ego that represent the high point of film history hitherto must be attacked. Not in favour of a reconstructed new pleasure, which cannot exist in the abstract, nor of intellectualised unpleasure, but to make way for a total negation of the ease and plenitude of the narrative fiction film. The alternative is the thrill that comes from leaving the past behind without rejecting it, transcending outworn or oppressive forms, or daring to break with normal pleasurable expectations in order to conceive a new language of desire. (“Visual Pleasure and Narrative Cinema,” 16)</p> It is said that analysing pleasure, or beauty, destroys it. (“Visual Pleasure and Narrative Cinema,” 16) Mulvey is asking us to reconsider the ease and plenitude we get from what she calls “the reinforcement of the ego,” and in doing so, Mulvey asks, whose ego? Who is our work for? If film—like data—builds worlds by extracting and reassembling<a id=\"p39\" class=\"page\"></a>bits of what we know, then whose world are we building? How far have we thought that through? I saw Mulvey at an April 2015 screening at Yale University of <i>Riddles of the Sphinx,</i> her experimental film with Peter Wollen about motherhood and feminism. She almost apologized before the screening for its difficulty and strangeness; and it is a strange and difficult and taxing film. But for all Mulvey’s warnings about estrangement and the destruction of pleasure, I found myself actually moved almost to tears by the movie. I became a mother myself a couple years ago, and I felt, watching the film, that yes, this is how it is to be a mother—so infuriating and claustrophobic and sublime all at once. And there <i>was</i> pleasure there, or a thrill, in Mulvey’s term: a thrill in seeing one’s experience captured in its complexity and contradiction, and at not being lied to or patronized. <a id=\"en38r\" class=\"enref\" href=\"#en38\">8</a> Mulvey told us that at the British Film Institute’s behest, she traveled the British countryside with the film, screening it for very confused audiences, most of whom walked out. But she told us, too, that some of them stayed, and that those who did tended to be the mothers, who were so grateful to see themselves, finally, on the screen. So maybe this is the thrill we can work toward—the thrill in capturing people’s lived experience in radical ways—ways that are productive and generative and probably angry, too. Of course, we cannot capture these experiences without the contributions of the people whose lives we are claiming to represent. So it is incumbent on all of us (but particularly those of us who have platforms) to push for the inclusion of underrepresented communities in digital humanities work, because it will make all of our work stronger and sounder. We cannot allow digital humanities to recapitulate the inequities and underrepresentations that plague Silicon Valley; or the systematic injustice, in our country and abroad, that silences voices and lives. This chapter’s title proposes that DH might work toward a different possible future, and this is what I meant. Sometimes people frame calls for DH to engage more with race and gender as a kind of philanthropic activity; won’t you please consider the poor women and people of color? But that is wrong. DH needs scholarly expertise in critical race theory, feminist and queer theory, and other interrogations of structures of power in order to develop models of the world that have any relevance to people’s lived experience. Truly, it is the most complicated, challenging computing problem I can imagine, and DH hasn’t even begun yet to take it on. <div class=\"footnote\">\n",
      "          <p class=\"eds\">This chapter was originally delivered as a paper at the Keystone Digital Humanities Conference at the University of Pennsylvania on July 22, 2015, and posted to <a class=\"url\" href=\"http://miriamposner.com/blog/whats-next-the-radical-unrealized-potential-of-digital-humanities/\">http://miriamposner.com/blog/whats-next-the-radical-unrealized-potential-of-digital-humanities/</a> on July 27. <a id=\"p40\" class=\"page\"></a> My thanks to Lauren Klein and Roderic Crooks for their advice and feedback on this material. I would also like to acknowledge the intellectual debt I owe to David Kim and Johanna Drucker, with whom I have argued, negotiated, and formulated a lot of these ideas, mostly in the context of teaching together. Kim’s important dissertation, “Archives, Models, and Methods for Critical Approaches to Identities: Representing Race and Ethnicity in the Digital Humanities” (UCLA, 2015), takes on many of these issues at much greater length. </p>\n",
      "        </div>\n",
      "        <div class=\"endnote\">\n",
      "          <p class=\"en\"><a id=\"en31\" class=\"ennum\" href=\"#en31r\">1</a>. See, for example, Edney, <i>Mapping an Empire,</i> or on digital maps, Farman, “Mapping the Digital Empire.” </p>\n",
      "        </div>\n",
      "        <div class=\"endnote\">\n",
      "          <p class=\"en\"><a id=\"en32\" class=\"ennum\" href=\"#en32r\">2</a>. See, for example, the widely cited Steve Krug, <i>Don’t Make Me Think! </i></p>\n",
      "        </div>\n",
      "        <div class=\"endnote\">\n",
      "          <p class=\"en\"><a id=\"en33\" class=\"ennum\" href=\"#en33r\">3</a>. For a good overview of attempts to visualize uncertainty see Marx, “Data Visualization: Ambiguity as a Fellow Traveler.” </p>\n",
      "        </div>\n",
      "        <div class=\"endnote\">\n",
      "          <p class=\"en\"><a id=\"en34\" class=\"ennum\" href=\"#en34r\">4</a>. Lauren Klein’s forthcoming book on data visualization demonstrates, among other things, that our current repertoire of charts and graphs is not inevitable but one option among many we could have chosen. </p>\n",
      "        </div>\n",
      "        <div class=\"endnote\">\n",
      "          <p class=\"en\"><a id=\"en35\" class=\"ennum\" href=\"#en35r\">5</a>. I want to make it abundantly clear here that I am not trying to pick on ULAN. It was one example among many I could have chosen. </p>\n",
      "        </div>\n",
      "        <div class=\"endnote\">\n",
      "          <p class=\"en\"><a id=\"en36\" class=\"ennum\" href=\"#en36r\">6</a>. Work such as Deb Verhoeven’s, which develops categories in collaboration with the communities they represent, will be invaluable here. As she demonstrates, it is vital to do this work in partnership with the communities at stake. See Verhoeven, “Doing the Sheep Good.” </p>\n",
      "        </div>\n",
      "        <div class=\"endnote\">\n",
      "          <p class=\"en\"><a id=\"en37\" class=\"ennum\" href=\"#en37r\">7</a>. Tara McPherson made a similar comparison between Mulvey and digital humanities in a March 2015 interview with Henry Jenkins. See Jenkins, “Bringing Critical Perspectives to the Digital Humanities.” </p>\n",
      "        </div>\n",
      "        <div class=\"endnote\">\n",
      "          <p class=\"en\"><a id=\"en38\" class=\"ennum\" href=\"#en38r\">8</a>. It must be said that <i>Riddles of the Sphinx</i> is far from a perfect film; as one audience member suggested, and as Mulvey acknowledged, its sole black character is exoticized through her clothing and mostly silent role. </p>\n",
      "        </div> <p class=\"eds\">This chapter was originally delivered as a paper at the Keystone Digital Humanities Conference at the University of Pennsylvania on July 22, 2015, and posted to <a class=\"url\" href=\"http://miriamposner.com/blog/whats-next-the-radical-unrealized-potential-of-digital-humanities/\">http://miriamposner.com/blog/whats-next-the-radical-unrealized-potential-of-digital-humanities/</a> on July 27. This chapter was originally delivered as a paper at the Keystone Digital Humanities Conference at the University of Pennsylvania on July 22, 2015, and posted to <a class=\"url\" href=\"http://miriamposner.com/blog/whats-next-the-radical-unrealized-potential-of-digital-humanities/\">http://miriamposner.com/blog/whats-next-the-radical-unrealized-potential-of-digital-humanities/</a> on July 27. <p class=\"en\"><a id=\"en31\" class=\"ennum\" href=\"#en31r\">1</a>. <a id=\"en31\" class=\"ennum\" href=\"#en31r\">1</a>. <p class=\"en\"><a id=\"en32\" class=\"ennum\" href=\"#en32r\">2</a>. </i></p> <a id=\"en32\" class=\"ennum\" href=\"#en32r\">2</a>. <p class=\"en\"><a id=\"en33\" class=\"ennum\" href=\"#en33r\">3</a>. <a id=\"en33\" class=\"ennum\" href=\"#en33r\">3</a>. <p class=\"en\"><a id=\"en34\" class=\"ennum\" href=\"#en34r\">4</a>. <a id=\"en34\" class=\"ennum\" href=\"#en34r\">4</a>. <p class=\"en\"><a id=\"en35\" class=\"ennum\" href=\"#en35r\">5</a>. “The Changing Face of America.” <p class=\"en\"><a id=\"en36\" class=\"ennum\" href=\"#en36r\">6</a>. <a id=\"en36\" class=\"ennum\" href=\"#en36r\">6</a>. <p class=\"en\"><a id=\"en37\" class=\"ennum\" href=\"#en37r\">7</a>. <a id=\"en37\" class=\"ennum\" href=\"#en37r\">7</a>. <p class=\"en\"><a id=\"en38\" class=\"ennum\" href=\"#en38r\">8</a>. <a id=\"en38\" class=\"ennum\" href=\"#en38r\">8</a>. <p class=\"rf\">“About the ULAN.” The Getty Research Institute. <a class=\"url\" href=\"http://www.getty.edu/research/tools/vocabularies/ulan/about.html\">http://www.getty.edu/research/tools/vocabularies/ulan/about.html</a>. </p>\n",
      "        <p class=\"rf\">Caswell, Michelle, and Anne Gilliland. “False Promise and New Hope: Dead Perpetrators, Imagined Documents and Emergent Archival Evidence.” <i>International Journal of Human Rights</i> 19, no. 5 (July 2015), 615–27. </p>\n",
      "        <p class=\"rf\">Edney, Matthew H. <i>Mapping an Empire: The Geographical Construction of British India, 1765–1843. </i> Chicago; London: University of Chicago Press, 1997. </p>\n",
      "        <p class=\"rf\">Farman, Jason. <i>Race: The Floating Signifier,</i> dir. </p>\n",
      "        <p class=\"rf\">“Getty Union List of Artist Names.” <a class=\"url\" href=\"http://www.getty.edu/research/tools/vocabularies/ulan/\">http://www.getty.edu/research/tools/vocabularies/ulan/</a>. </p>\n",
      "        <p class=\"rf\">Grossner, Karl, and Elijah Meeks. <i>Screen</i> 16, no. 3 (September 21, 1975): 6–18, doi:10.1093/screen/16.3.6. <a class=\"url\" href=\"http://dh.stanford.edu/topotime/\">http://dh.stanford.edu/topotime/</a>. </p>\n",
      "        <p class=\"rf\"><a id=\"p41\" class=\"page\"></a>Jenkins, Henry. “Bringing Critical Perspectives to the Digital Humanities: An Interview with Tara McPherson (Part Three).” <i>Confessions of an Aca-Fan,</i> March 20, 2015. </p>\n",
      "        <p class=\"rf\">Kim, David. “Archives, Models, and Methods for Critical Approaches to Identities: Representing Race and Ethnicity in the Digital Humanities,” PhD diss., UCLA, 2015. </p>\n",
      "        <p class=\"rf\">—. “‘Data-izing’ the Images: Process and Prototype.” In <i>Performing Archive: Curtis + the Vanishing Race,</i> by Jacqueline Wernimont, Beatrice Schuster, Amy Borsuk, David J. Kim, Heather Blackmore, and Ulia Gusart (Popova). Scalar, 2013. <a class=\"url\" href=\"http://scalar.usc.edu/works/performingarchive/data-izing-the-photos?path=network-view-of-curtis-images\">http://scalar.usc.edu/works/performingarchive/data-izing-the-photos?path=network-view-of-curtis-images</a>. </p>\n",
      "        <p class=\"rf\">Krug, Steve. <i>Don’t Make Me Think! : A Common Sense Approach to Web Usability</i>. Berkeley, Calif.: New Riders Pub., 2006. </p>\n",
      "        <p class=\"rf\">“Mapping the Stacks: A Guide to Chicago’s Hidden Archives.” <a class=\"url\" href=\"http://mts.lib.uchicago.edu/\">http://mts.lib.uchicago.edu/</a>. </p>\n",
      "        <p class=\"rf\">Marx, Vivien. “Data Visualization: Ambiguity as a Fellow Traveler.” <i>Nature Methods</i> 10, no. 7 (July 2013): 613–15, doi:10.1038/nmeth.2530. </p>\n",
      "        <p class=\"rf\">McCarty, Willard. “Modeling: A Study in Words and Meanings.” In <i>A Companion to Digital Humanities,</i> ed. Susan Schreibman, Ray Siemens, and John Unsworth. Oxford: Blackwell, 2004. </p>\n",
      "        <p class=\"rf\">Molloy, Parker Marie. “Facebook Announces Expanded Gender Options for Transgenderand Gender Nonconforming Users.” <i>Advocate,</i> February 13, 2014. <a class=\"url\" href=\"http://www.advocate.com/politics/transgender/2014/02/13/facebook-announces-expanded-gender-options-transgender-and-gender\">http://www.advocate.com/politics/transgender/2014/02/13/facebook-announces-expanded-gender-options-transgender-and-gender</a>. </p>\n",
      "        <p class=\"rf\">Mulvey, Laura. “Visual Pleasure and Narrative Cinema.” </p>\n",
      "        <p class=\"rf\"><i>Race: The Floating Signifier,</i> dir. Sut Jhally, with Stuart Hall and Media Education Foundation. Northampton, Mass.: Media Education Foundation, 2002. </p>\n",
      "        <p class=\"rf\"><i>Riddles of the Sphinx,</i> dir. Laura Mulvey and Peter Wollen. New York: British Film Institute, 1977. </p>\n",
      "        <p class=\"rf\">Schoeller, Martin. <i>National Geographic,</i> October 2013. <a class=\"url\" href=\"http://ngm.nationalgeographic.com/2013/10/changing-faces/schoeller-photography\">http://ngm.nationalgeographic.com/2013/10/changing-faces/schoeller-photography</a>. </p>\n",
      "        <p class=\"rf\">Verhoeven, Deb. “Doing the Sheep Good: Facilitating Engagement in Digital Humanities and Creative Arts Research.” In <i>Advancing Digital Humanities: Research, Methods, Theories,</i> ed. Katherine Bode and Paul Longley Arthur, 206–20. New York: Palgrave MacMillan, 2014. </p>\n",
      "        <p class=\"rf\">Watson, Helen, with the Yolngu community at Yirrkala. “Aboriginal-Australian maps.” In <i>Maps Are Territories, Science Is an Atlas,</i> ed. David Wade Chambers, David Turnbull, and Helen Watson, 28–36. Chicago: University of Chicago Press, 1993. <a class=\"url\" href=\"http://territories.indigenousknowledge.org/exhibit-5\">http://territories.indigenousknowledge.org/exhibit-5</a>. “About the ULAN.” Caswell, Michelle, and Anne Gilliland. Edney, Matthew H. <i>Mapping an Empire: The Geographical Construction of British India, 1765–1843. Farman, Jason. “Getty Union List of Artist Names.” Grossner, Karl, and Elijah Meeks. <a id=\"p41\" class=\"page\"></a>Jenkins, Henry. Kim, David. Krug, Steve. “Mapping the Stacks: A Guide to Chicago’s Hidden Archives.” Marx, Vivien. McCarty, Willard. Molloy, Parker Marie. Mulvey, Laura. <i>Riddles of the Sphinx,</i> dir. Schoeller, Martin. Verhoeven, Deb. Watson, Helen, with the Yolngu community at Yirrkala.\n"
     ]
    }
   ],
   "source": [
    "chapter=\" \".join(book[53])\n",
    "print(chapter)"
   ]
  },
  {
   "cell_type": "markdown",
   "metadata": {},
   "source": [
    "Note that there is endnote content and HTML markup being caught.  Not sure if it should be there.  Something to work on."
   ]
  }
 ],
 "metadata": {
  "kernelspec": {
   "display_name": "Python 3",
   "language": "python",
   "name": "python3"
  },
  "language_info": {
   "codemirror_mode": {
    "name": "ipython",
    "version": 3
   },
   "file_extension": ".py",
   "mimetype": "text/x-python",
   "name": "python",
   "nbconvert_exporter": "python",
   "pygments_lexer": "ipython3",
   "version": "3.6.0"
  }
 },
 "nbformat": 4,
 "nbformat_minor": 2
}
